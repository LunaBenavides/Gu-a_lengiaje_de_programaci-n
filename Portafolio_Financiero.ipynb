{
  "nbformat": 4,
  "nbformat_minor": 0,
  "metadata": {
    "colab": {
      "provenance": [],
      "authorship_tag": "ABX9TyOzAMiyEGY8bPwjpyOjH+V5",
      "include_colab_link": true
    },
    "kernelspec": {
      "name": "python3",
      "display_name": "Python 3"
    },
    "language_info": {
      "name": "python"
    }
  },
  "cells": [
    {
      "cell_type": "markdown",
      "metadata": {
        "id": "view-in-github",
        "colab_type": "text"
      },
      "source": [
        "<a href=\"https://colab.research.google.com/github/LunaBenavides/Gu-a_lengiaje_de_programaci-n/blob/main/Portafolio_Financiero.ipynb\" target=\"_parent\"><img src=\"https://colab.research.google.com/assets/colab-badge.svg\" alt=\"Open In Colab\"/></a>"
      ]
    },
    {
      "cell_type": "markdown",
      "source": [
        "#**GESTIÓN DE PORTAFOLIOS FINANCIEROS**\n",
        "\n",
        "**DECLARACIÓN DE VARIABLES Y LISTAS**"
      ],
      "metadata": {
        "id": "ywpW8jHSF8c7"
      }
    },
    {
      "cell_type": "code",
      "source": [
        "clientes = [\"Juan Perez\", \"Maria Rodriguez\", \"Carlos Lopez\", \"Ana Gomez\"]\n",
        "print(clientes)\n",
        "\n",
        "montos_invertidos = [10000, 15000, 20000, 18000]\n",
        "print(montos_invertidos)\n",
        "\n",
        "rendimientos = [5.5, 6.0, 4.0, 7.5]\n",
        "print(rendimientos)\n",
        "\n"
      ],
      "metadata": {
        "colab": {
          "base_uri": "https://localhost:8080/"
        },
        "id": "gDLTLB7byKY7",
        "outputId": "ccc67248-5b83-43b3-8f0c-499a38ea10c6"
      },
      "execution_count": 6,
      "outputs": [
        {
          "output_type": "stream",
          "name": "stdout",
          "text": [
            "['Juan Perez', 'Maria Rodriguez', 'Carlos Lopez', 'Ana Gomez']\n",
            "[10000, 15000, 20000, 18000]\n",
            "[5.5, 6.0, 4.0, 7.5]\n"
          ]
        }
      ]
    },
    {
      "cell_type": "markdown",
      "source": [
        "#**TUPLAS**\n"
      ],
      "metadata": {
        "id": "iywSYLKiGiZo"
      }
    },
    {
      "cell_type": "code",
      "source": [
        "cliente_1 = (\"Juan Perez\", 10000, 5.5)\n",
        "print(cliente_1)\n",
        "\n",
        "cliente_2 = (\"Maria Rodriguez\", 15000, 6.0)\n",
        "print(cliente_2)\n",
        "\n",
        "cliente_3 = (\"Carlos Lopez\", 20000, 4.0)\n",
        "print(cliente_3)\n",
        "\n",
        "cliente_4 = (\"Ana Gomez\", 18000, 7.5)\n",
        "print(cliente_4)\n"
      ],
      "metadata": {
        "colab": {
          "base_uri": "https://localhost:8080/"
        },
        "id": "7PolvK3r0Lwx",
        "outputId": "26c010fb-18b4-4e2f-92a3-4ab33fd6dc03"
      },
      "execution_count": 7,
      "outputs": [
        {
          "output_type": "stream",
          "name": "stdout",
          "text": [
            "('Juan Perez', 10000, 5.5)\n",
            "('Maria Rodriguez', 15000, 6.0)\n",
            "('Carlos Lopez', 20000, 4.0)\n",
            "('Ana Gomez', 18000, 7.5)\n"
          ]
        }
      ]
    },
    {
      "cell_type": "markdown",
      "source": [
        "#**DICCIONARIO**\n"
      ],
      "metadata": {
        "id": "t8JBNVysHAGA"
      }
    },
    {
      "cell_type": "code",
      "source": [
        "portafolio = {\n",
        "    \"Juan Perez\": {\"monto_invertido\": 10000, \"rendimiento\": 5.5},\n",
        "    \"Maria Rodriguez\": {\"monto_invertido\": 15000, \"rendimiento\": 6.0},\n",
        "    \"Carlos Lopez\": {\"monto_invertido\": 20000, \"rendimiento\": 4.0},\n",
        "    \"Ana Gomez\": {\"monto_invertido\": 18000, \"rendimiento\": 7.5}\n",
        "}\n",
        "\n",
        "print(portafolio)\n"
      ],
      "metadata": {
        "colab": {
          "base_uri": "https://localhost:8080/"
        },
        "id": "yrvDWPQr28mg",
        "outputId": "d0665ffc-4b48-44ac-b947-20ea839b5d2d"
      },
      "execution_count": 12,
      "outputs": [
        {
          "output_type": "stream",
          "name": "stdout",
          "text": [
            "{'Juan Perez': {'monto_invertido': 10000, 'rendimiento': 5.5}, 'Maria Rodriguez': {'monto_invertido': 15000, 'rendimiento': 6.0}, 'Carlos Lopez': {'monto_invertido': 20000, 'rendimiento': 4.0}, 'Ana Gomez': {'monto_invertido': 18000, 'rendimiento': 7.5}}\n"
          ]
        }
      ]
    },
    {
      "cell_type": "markdown",
      "source": [
        "-**RENDIMIENTO DE LOS CLIENTES %**\n"
      ],
      "metadata": {
        "id": "OTpKGXCEHS7U"
      }
    },
    {
      "cell_type": "code",
      "source": [
        "print(\"Clientes con rendimiento superior al 5%:\")\n",
        "\n",
        "for cliente, datos in portafolio.items():\n",
        "    if datos[\"rendimiento\"] > 5:\n",
        "        print(f\"Nombre: {cliente}, Rendimiento: {datos['rendimiento']}%\")"
      ],
      "metadata": {
        "colab": {
          "base_uri": "https://localhost:8080/"
        },
        "id": "Xbj0HeAZ4atR",
        "outputId": "26c85735-d1ca-4259-89b6-359e312334b8"
      },
      "execution_count": 19,
      "outputs": [
        {
          "output_type": "stream",
          "name": "stdout",
          "text": [
            "Clientes con rendimiento superior al 5%:\n",
            "Nombre: Juan Perez, Rendimiento: 5.5%\n",
            "Nombre: Maria Rodriguez, Rendimiento: 6.0%\n",
            "Nombre: Ana Gomez, Rendimiento: 7.5%\n"
          ]
        }
      ]
    },
    {
      "cell_type": "markdown",
      "source": [
        "-**RENDIMIENTO TOTAL DEL PORTAFOLIO**"
      ],
      "metadata": {
        "id": "9nnN4HhFHlYZ"
      }
    },
    {
      "cell_type": "code",
      "source": [
        "rendimiento_total = 0\n",
        "\n",
        "for cliente, datos in portafolio.items():\n",
        "   rendimiento_cliente = (datos[\"monto_invertido\"] * datos[\"rendimiento\"]) / 100\n",
        "   rendimiento_total += rendimiento_cliente\n",
        "\n",
        "print(f\"El rendimiento total del portafolio es: ${rendimiento_total:.2f}\")"
      ],
      "metadata": {
        "colab": {
          "base_uri": "https://localhost:8080/"
        },
        "id": "3SleNWq76EE7",
        "outputId": "8e997384-c7ca-4064-c60d-128afb6d98ba"
      },
      "execution_count": 21,
      "outputs": [
        {
          "output_type": "stream",
          "name": "stdout",
          "text": [
            "El rendimiento total del portafolio es: $3600.00\n"
          ]
        }
      ]
    },
    {
      "cell_type": "markdown",
      "source": [
        "-**CLIENTE CON MAYOR RENDIMIENTO**"
      ],
      "metadata": {
        "id": "o2fNOCh0HyXp"
      }
    },
    {
      "cell_type": "code",
      "source": [
        "mayor_rendimiento = 0\n",
        "cliente_mayor_rendimiento = \"\"\n",
        "\n",
        "for cliente, datos in portafolio.items():\n",
        "    monto_invertido = datos[\"monto_invertido\"]\n",
        "    rendimiento = datos[\"rendimiento\"]\n",
        "    rendimiento_cliente = (monto_invertido * rendimiento) / 100\n",
        "\n",
        "    if rendimiento_cliente  > mayor_rendimiento:\n",
        "        mayor_rendimiento = rendimiento_cliente\n",
        "        cliente_mayor_rendimiento = cliente\n",
        "\n",
        "print(f\"El cliente con el mayor rendimiento absoluto es: {cliente_mayor_rendimiento} con ${mayor_rendimiento:.2f}\")"
      ],
      "metadata": {
        "colab": {
          "base_uri": "https://localhost:8080/"
        },
        "id": "WyzmPKCG863Q",
        "outputId": "6e153d82-e622-4cce-88c8-28cc41b0312f"
      },
      "execution_count": 27,
      "outputs": [
        {
          "output_type": "stream",
          "name": "stdout",
          "text": [
            "El cliente con el mayor rendimiento absoluto es: Ana Gomez con $1350.00\n"
          ]
        }
      ]
    },
    {
      "cell_type": "markdown",
      "source": [
        "-**MODIFICACIONES DEL PORTAFOLIO**"
      ],
      "metadata": {
        "id": "dYMLbZJeO6Wc"
      }
    },
    {
      "cell_type": "code",
      "source": [
        "portafolio = {\n",
        "    \"Juan Perez\": {\"monto_invertido\": 10000, \"rendimiento\": 5.5},\n",
        "    \"Maria Rodriguez\": {\"monto_invertido\": 15000, \"rendimiento\": 6.0},\n",
        "    \"Carlos Lopez\": {\"monto_invertido\": 20000, \"rendimiento\": 4.0},\n",
        "    \"Ana Gomez\": {\"monto_invertido\": 18000, \"rendimiento\": 7.5}\n",
        "}\n",
        "\n",
        "# 1. Actualizar el monto invertido de Carlos Lopez\n",
        "portafolio[\"Carlos Lopez\"][\"monto_invertido\"] = 25000\n",
        "print(\"Portafolio después de actualizar Carlos Lopez:\")\n",
        "print(portafolio)\n",
        "\n",
        "# 2. Añadir a Laura Fernandez\n",
        "portafolio[\"Laura Fernandez\"] = {\"monto_invertido\": 22000, \"rendimiento\": 6.8}\n",
        "print(\"\\nPortafolio después de añadir Laura Fernandez:\")\n",
        "print(portafolio)\n",
        "\n",
        "# 3. Remover a Ana Gomez\n",
        "portafolio.pop(\"Ana Gomez\")\n",
        "print(\"\\nPortafolio después de remover a Ana Gomez:\")\n",
        "print(portafolio)"
      ],
      "metadata": {
        "colab": {
          "base_uri": "https://localhost:8080/"
        },
        "id": "XhZb2hKKL8GT",
        "outputId": "11938185-3864-4217-a5d0-9a5df0fe5912"
      },
      "execution_count": 66,
      "outputs": [
        {
          "output_type": "stream",
          "name": "stdout",
          "text": [
            "Portafolio después de actualizar Carlos Lopez:\n",
            "{'Juan Perez': {'monto_invertido': 10000, 'rendimiento': 5.5}, 'Maria Rodriguez': {'monto_invertido': 15000, 'rendimiento': 6.0}, 'Carlos Lopez': {'monto_invertido': 25000, 'rendimiento': 4.0}, 'Ana Gomez': {'monto_invertido': 18000, 'rendimiento': 7.5}}\n",
            "\n",
            "Portafolio después de añadir Laura Fernandez:\n",
            "{'Juan Perez': {'monto_invertido': 10000, 'rendimiento': 5.5}, 'Maria Rodriguez': {'monto_invertido': 15000, 'rendimiento': 6.0}, 'Carlos Lopez': {'monto_invertido': 25000, 'rendimiento': 4.0}, 'Ana Gomez': {'monto_invertido': 18000, 'rendimiento': 7.5}, 'Laura Fernandez': {'monto_invertido': 22000, 'rendimiento': 6.8}}\n",
            "\n",
            "Portafolio después de remover a Ana Gomez:\n",
            "{'Juan Perez': {'monto_invertido': 10000, 'rendimiento': 5.5}, 'Maria Rodriguez': {'monto_invertido': 15000, 'rendimiento': 6.0}, 'Carlos Lopez': {'monto_invertido': 25000, 'rendimiento': 4.0}, 'Laura Fernandez': {'monto_invertido': 22000, 'rendimiento': 6.8}}\n"
          ]
        }
      ]
    }
  ]
}